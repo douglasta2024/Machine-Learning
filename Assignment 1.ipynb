{
 "cells": [
  {
   "cell_type": "code",
   "execution_count": 881,
   "metadata": {},
   "outputs": [],
   "source": [
    "import os\n",
    "import pandas as pd\n",
    "import numpy as np\n",
    "import matplotlib.pyplot as plt\n",
    "import seaborn as sns\n",
    "import geopandas"
   ]
  },
  {
   "cell_type": "code",
   "execution_count": 882,
   "metadata": {},
   "outputs": [],
   "source": [
    "df = pd.read_csv(\"articleInfo.csv\")\n",
    "df2 = pd.read_csv(\"authorInfo.csv\")"
   ]
  },
  {
   "cell_type": "code",
   "execution_count": 883,
   "metadata": {},
   "outputs": [],
   "source": [
    "df = pd.merge(df, df2, on='Article No.')\n",
    "df = df.fillna(0)"
   ]
  },
  {
   "cell_type": "code",
   "execution_count": 884,
   "metadata": {},
   "outputs": [
    {
     "data": {
      "text/html": [
       "<div>\n",
       "<style scoped>\n",
       "    .dataframe tbody tr th:only-of-type {\n",
       "        vertical-align: middle;\n",
       "    }\n",
       "\n",
       "    .dataframe tbody tr th {\n",
       "        vertical-align: top;\n",
       "    }\n",
       "\n",
       "    .dataframe thead th {\n",
       "        text-align: right;\n",
       "    }\n",
       "</style>\n",
       "<table border=\"1\" class=\"dataframe\">\n",
       "  <thead>\n",
       "    <tr style=\"text-align: right;\">\n",
       "      <th></th>\n",
       "      <th>Article No.</th>\n",
       "      <th>Title</th>\n",
       "      <th>Year</th>\n",
       "      <th>Author Number</th>\n",
       "      <th>Key Words</th>\n",
       "      <th>Citation</th>\n",
       "      <th>Source</th>\n",
       "      <th>Abstract</th>\n",
       "      <th>Type</th>\n",
       "      <th>Author Name</th>\n",
       "      <th>Author Affiliation</th>\n",
       "      <th>Country</th>\n",
       "      <th>h-index</th>\n",
       "    </tr>\n",
       "  </thead>\n",
       "  <tbody>\n",
       "    <tr>\n",
       "      <th>0</th>\n",
       "      <td>1</td>\n",
       "      <td>Study of Virtual Reality Immersive Technology ...</td>\n",
       "      <td>2022</td>\n",
       "      <td>3.0</td>\n",
       "      <td>virtual reality technologies, mathematics lear...</td>\n",
       "      <td>7.0</td>\n",
       "      <td>FRONTIERS IN PSYCHOLOGY</td>\n",
       "      <td>Mathematics is an important foundation for the...</td>\n",
       "      <td>Journal</td>\n",
       "      <td>Yu-Sheng Su</td>\n",
       "      <td>National Taiwan Ocean University</td>\n",
       "      <td>Taiwan</td>\n",
       "      <td>0.0</td>\n",
       "    </tr>\n",
       "    <tr>\n",
       "      <th>1</th>\n",
       "      <td>1</td>\n",
       "      <td>Study of Virtual Reality Immersive Technology ...</td>\n",
       "      <td>2022</td>\n",
       "      <td>3.0</td>\n",
       "      <td>virtual reality technologies, mathematics lear...</td>\n",
       "      <td>7.0</td>\n",
       "      <td>FRONTIERS IN PSYCHOLOGY</td>\n",
       "      <td>Mathematics is an important foundation for the...</td>\n",
       "      <td>Journal</td>\n",
       "      <td>Hung-Wei Cheng</td>\n",
       "      <td>National Taiwan Ocean University</td>\n",
       "      <td>Taiwan</td>\n",
       "      <td>0.0</td>\n",
       "    </tr>\n",
       "    <tr>\n",
       "      <th>2</th>\n",
       "      <td>1</td>\n",
       "      <td>Study of Virtual Reality Immersive Technology ...</td>\n",
       "      <td>2022</td>\n",
       "      <td>3.0</td>\n",
       "      <td>virtual reality technologies, mathematics lear...</td>\n",
       "      <td>7.0</td>\n",
       "      <td>FRONTIERS IN PSYCHOLOGY</td>\n",
       "      <td>Mathematics is an important foundation for the...</td>\n",
       "      <td>Journal</td>\n",
       "      <td>Chin-Feng Lai</td>\n",
       "      <td>National Cheng Kung University</td>\n",
       "      <td>Taiwan</td>\n",
       "      <td>0.0</td>\n",
       "    </tr>\n",
       "    <tr>\n",
       "      <th>3</th>\n",
       "      <td>2</td>\n",
       "      <td>Factors Influencing Nursing Students' Immersiv...</td>\n",
       "      <td>2021</td>\n",
       "      <td>2.0</td>\n",
       "      <td>virtual reality; learning; immersive media tec...</td>\n",
       "      <td>3.0</td>\n",
       "      <td>SENSORS</td>\n",
       "      <td>Background/objectives: This study aims to iden...</td>\n",
       "      <td>Journal</td>\n",
       "      <td>Youngju Kim</td>\n",
       "      <td>Daejeon Health Institute of Technology</td>\n",
       "      <td>Korea</td>\n",
       "      <td>0.0</td>\n",
       "    </tr>\n",
       "    <tr>\n",
       "      <th>4</th>\n",
       "      <td>2</td>\n",
       "      <td>Factors Influencing Nursing Students' Immersiv...</td>\n",
       "      <td>2021</td>\n",
       "      <td>2.0</td>\n",
       "      <td>virtual reality; learning; immersive media tec...</td>\n",
       "      <td>3.0</td>\n",
       "      <td>SENSORS</td>\n",
       "      <td>Background/objectives: This study aims to iden...</td>\n",
       "      <td>Journal</td>\n",
       "      <td>Sung Yun Ahn</td>\n",
       "      <td>Pai Chai University</td>\n",
       "      <td>Korea</td>\n",
       "      <td>0.0</td>\n",
       "    </tr>\n",
       "  </tbody>\n",
       "</table>\n",
       "</div>"
      ],
      "text/plain": [
       "   Article No.                                              Title  Year  \\\n",
       "0            1  Study of Virtual Reality Immersive Technology ...  2022   \n",
       "1            1  Study of Virtual Reality Immersive Technology ...  2022   \n",
       "2            1  Study of Virtual Reality Immersive Technology ...  2022   \n",
       "3            2  Factors Influencing Nursing Students' Immersiv...  2021   \n",
       "4            2  Factors Influencing Nursing Students' Immersiv...  2021   \n",
       "\n",
       "   Author Number                                          Key Words  Citation  \\\n",
       "0            3.0  virtual reality technologies, mathematics lear...       7.0   \n",
       "1            3.0  virtual reality technologies, mathematics lear...       7.0   \n",
       "2            3.0  virtual reality technologies, mathematics lear...       7.0   \n",
       "3            2.0  virtual reality; learning; immersive media tec...       3.0   \n",
       "4            2.0  virtual reality; learning; immersive media tec...       3.0   \n",
       "\n",
       "                    Source                                           Abstract  \\\n",
       "0  FRONTIERS IN PSYCHOLOGY  Mathematics is an important foundation for the...   \n",
       "1  FRONTIERS IN PSYCHOLOGY  Mathematics is an important foundation for the...   \n",
       "2  FRONTIERS IN PSYCHOLOGY  Mathematics is an important foundation for the...   \n",
       "3                  SENSORS  Background/objectives: This study aims to iden...   \n",
       "4                  SENSORS  Background/objectives: This study aims to iden...   \n",
       "\n",
       "      Type     Author Name                      Author Affiliation Country  \\\n",
       "0  Journal     Yu-Sheng Su        National Taiwan Ocean University  Taiwan   \n",
       "1  Journal  Hung-Wei Cheng        National Taiwan Ocean University  Taiwan   \n",
       "2  Journal   Chin-Feng Lai          National Cheng Kung University  Taiwan   \n",
       "3  Journal     Youngju Kim  Daejeon Health Institute of Technology   Korea   \n",
       "4  Journal    Sung Yun Ahn                     Pai Chai University   Korea   \n",
       "\n",
       "   h-index  \n",
       "0      0.0  \n",
       "1      0.0  \n",
       "2      0.0  \n",
       "3      0.0  \n",
       "4      0.0  "
      ]
     },
     "execution_count": 884,
     "metadata": {},
     "output_type": "execute_result"
    }
   ],
   "source": [
    "df.head()"
   ]
  },
  {
   "attachments": {},
   "cell_type": "markdown",
   "metadata": {},
   "source": [
    "Problem 1"
   ]
  },
  {
   "cell_type": "code",
   "execution_count": 885,
   "metadata": {},
   "outputs": [],
   "source": [
    "publications = {}\n",
    "citations = {}\n",
    "countries = {}\n",
    "temp = \"\"\n",
    "for index in range(df.shape[0]):\n",
    "    if temp == df.loc[index]['Title']:\n",
    "        continue\n",
    "    title = df.loc[index]['Title']\n",
    "    cite = df.loc[index]['Citation']\n",
    "    temp = title\n",
    "    year = df.loc[index]['Year']\n",
    "    if year in publications:\n",
    "        count = publications[year] + 1\n",
    "        publications[year] = count\n",
    "        count = citations[year] + cite\n",
    "        citations[year] = count\n",
    "    else:\n",
    "        publications[year] = 1\n",
    "        citations[year] = cite\n"
   ]
  },
  {
   "cell_type": "code",
   "execution_count": 886,
   "metadata": {},
   "outputs": [
    {
     "data": {
      "text/plain": [
       "[Text(0.5, 1.0, 'Yearly Publication'),\n",
       " Text(0.5, 0, 'Year'),\n",
       " Text(0, 0.5, '# of Publications')]"
      ]
     },
     "execution_count": 886,
     "metadata": {},
     "output_type": "execute_result"
    },
    {
     "data": {
      "image/png": "[encoded data removed]",
      "text/plain": [
       "<Figure size 640x480 with 1 Axes>"
      ]
     },
     "metadata": {},
     "output_type": "display_data"
    }
   ],
   "source": [
    "keys = list(publications.keys())\n",
    "vals = list(publications.values())\n",
    "sns.barplot(x=keys, y=vals).set(title=\"Yearly Publication\", xlabel =\"Year\", ylabel=\"# of Publications\")"
   ]
  },
  {
   "cell_type": "code",
   "execution_count": 887,
   "metadata": {},
   "outputs": [
    {
     "data": {
      "text/plain": [
       "[Text(0.5, 1.0, 'Yearly Citations'),\n",
       " Text(0.5, 0, 'Year'),\n",
       " Text(0, 0.5, '# of Citations')]"
      ]
     },
     "execution_count": 887,
     "metadata": {},
     "output_type": "execute_result"
    },
    {
     "data": {
      "image/png": "[encoded data removed]",
      "text/plain": [
       "<Figure size 640x480 with 1 Axes>"
      ]
     },
     "metadata": {},
     "output_type": "display_data"
    }
   ],
   "source": [
    "keys = list(citations.keys())\n",
    "vals = list(citations.values())\n",
    "sns.barplot(x=keys, y=vals).set(title=\"Yearly Citations\", xlabel =\"Year\", ylabel=\"# of Citations\")"
   ]
  },
  {
   "cell_type": "code",
   "execution_count": 888,
   "metadata": {},
   "outputs": [],
   "source": [
    "countries = {}\n",
    "temp = \"\"\n",
    "for index in range(df.shape[0]):\n",
    "    if temp == df.loc[index]['Title']:\n",
    "        continue\n",
    "    title = df.loc[index]['Title']\n",
    "    temp = title\n",
    "    country = df.loc[index]['Country']\n",
    "    if country in countries:\n",
    "        count = countries[country] + 1\n",
    "        countries[country] = count\n",
    "    else:\n",
    "        countries[country] = 1\n"
   ]
  },
  {
   "cell_type": "code",
   "execution_count": 889,
   "metadata": {},
   "outputs": [],
   "source": [
    "countries = pd.DataFrame(countries, index=['countries'])"
   ]
  },
  {
   "cell_type": "code",
   "execution_count": 890,
   "metadata": {},
   "outputs": [],
   "source": [
    "countries = countries.melt()"
   ]
  },
  {
   "cell_type": "code",
   "execution_count": 891,
   "metadata": {},
   "outputs": [],
   "source": [
    "countries.rename(columns={'variable': 'Country', 'value': 'Publication Count'}, inplace=True)"
   ]
  },
  {
   "cell_type": "code",
   "execution_count": 892,
   "metadata": {},
   "outputs": [
    {
     "data": {
      "text/html": [
       "<div>\n",
       "<style scoped>\n",
       "    .dataframe tbody tr th:only-of-type {\n",
       "        vertical-align: middle;\n",
       "    }\n",
       "\n",
       "    .dataframe tbody tr th {\n",
       "        vertical-align: top;\n",
       "    }\n",
       "\n",
       "    .dataframe thead th {\n",
       "        text-align: right;\n",
       "    }\n",
       "</style>\n",
       "<table border=\"1\" class=\"dataframe\">\n",
       "  <thead>\n",
       "    <tr style=\"text-align: right;\">\n",
       "      <th></th>\n",
       "      <th>Country</th>\n",
       "      <th>Publication Count</th>\n",
       "    </tr>\n",
       "  </thead>\n",
       "  <tbody>\n",
       "    <tr>\n",
       "      <th>0</th>\n",
       "      <td>Taiwan</td>\n",
       "      <td>4</td>\n",
       "    </tr>\n",
       "    <tr>\n",
       "      <th>1</th>\n",
       "      <td>Korea</td>\n",
       "      <td>1</td>\n",
       "    </tr>\n",
       "    <tr>\n",
       "      <th>2</th>\n",
       "      <td>South Africa</td>\n",
       "      <td>1</td>\n",
       "    </tr>\n",
       "    <tr>\n",
       "      <th>3</th>\n",
       "      <td>United Kingdom</td>\n",
       "      <td>6</td>\n",
       "    </tr>\n",
       "    <tr>\n",
       "      <th>4</th>\n",
       "      <td>USA</td>\n",
       "      <td>8</td>\n",
       "    </tr>\n",
       "    <tr>\n",
       "      <th>5</th>\n",
       "      <td>Cyprus</td>\n",
       "      <td>2</td>\n",
       "    </tr>\n",
       "    <tr>\n",
       "      <th>6</th>\n",
       "      <td>China</td>\n",
       "      <td>17</td>\n",
       "    </tr>\n",
       "    <tr>\n",
       "      <th>7</th>\n",
       "      <td>Germany</td>\n",
       "      <td>5</td>\n",
       "    </tr>\n",
       "    <tr>\n",
       "      <th>8</th>\n",
       "      <td>Mexico</td>\n",
       "      <td>1</td>\n",
       "    </tr>\n",
       "    <tr>\n",
       "      <th>9</th>\n",
       "      <td>Italy</td>\n",
       "      <td>3</td>\n",
       "    </tr>\n",
       "    <tr>\n",
       "      <th>10</th>\n",
       "      <td>Ukraine</td>\n",
       "      <td>1</td>\n",
       "    </tr>\n",
       "    <tr>\n",
       "      <th>11</th>\n",
       "      <td>Ireland</td>\n",
       "      <td>2</td>\n",
       "    </tr>\n",
       "    <tr>\n",
       "      <th>12</th>\n",
       "      <td>Australia</td>\n",
       "      <td>4</td>\n",
       "    </tr>\n",
       "    <tr>\n",
       "      <th>13</th>\n",
       "      <td>Hong Kong</td>\n",
       "      <td>1</td>\n",
       "    </tr>\n",
       "    <tr>\n",
       "      <th>14</th>\n",
       "      <td>Chile</td>\n",
       "      <td>3</td>\n",
       "    </tr>\n",
       "    <tr>\n",
       "      <th>15</th>\n",
       "      <td>Spain</td>\n",
       "      <td>4</td>\n",
       "    </tr>\n",
       "    <tr>\n",
       "      <th>16</th>\n",
       "      <td>France</td>\n",
       "      <td>1</td>\n",
       "    </tr>\n",
       "    <tr>\n",
       "      <th>17</th>\n",
       "      <td>Denamrk</td>\n",
       "      <td>2</td>\n",
       "    </tr>\n",
       "    <tr>\n",
       "      <th>18</th>\n",
       "      <td>0</td>\n",
       "      <td>2</td>\n",
       "    </tr>\n",
       "    <tr>\n",
       "      <th>19</th>\n",
       "      <td>Canada</td>\n",
       "      <td>3</td>\n",
       "    </tr>\n",
       "    <tr>\n",
       "      <th>20</th>\n",
       "      <td>Denmark</td>\n",
       "      <td>1</td>\n",
       "    </tr>\n",
       "    <tr>\n",
       "      <th>21</th>\n",
       "      <td>Czech Republic</td>\n",
       "      <td>1</td>\n",
       "    </tr>\n",
       "    <tr>\n",
       "      <th>22</th>\n",
       "      <td>Liechtenstein</td>\n",
       "      <td>1</td>\n",
       "    </tr>\n",
       "    <tr>\n",
       "      <th>23</th>\n",
       "      <td>Palestine</td>\n",
       "      <td>1</td>\n",
       "    </tr>\n",
       "    <tr>\n",
       "      <th>24</th>\n",
       "      <td>Russia</td>\n",
       "      <td>1</td>\n",
       "    </tr>\n",
       "    <tr>\n",
       "      <th>25</th>\n",
       "      <td>Slovakia</td>\n",
       "      <td>1</td>\n",
       "    </tr>\n",
       "    <tr>\n",
       "      <th>26</th>\n",
       "      <td>Malaysia</td>\n",
       "      <td>1</td>\n",
       "    </tr>\n",
       "    <tr>\n",
       "      <th>27</th>\n",
       "      <td>Pakistan</td>\n",
       "      <td>1</td>\n",
       "    </tr>\n",
       "    <tr>\n",
       "      <th>28</th>\n",
       "      <td>India</td>\n",
       "      <td>1</td>\n",
       "    </tr>\n",
       "    <tr>\n",
       "      <th>29</th>\n",
       "      <td>Switzerland</td>\n",
       "      <td>1</td>\n",
       "    </tr>\n",
       "  </tbody>\n",
       "</table>\n",
       "</div>"
      ],
      "text/plain": [
       "           Country  Publication Count\n",
       "0           Taiwan                  4\n",
       "1            Korea                  1\n",
       "2     South Africa                  1\n",
       "3   United Kingdom                  6\n",
       "4              USA                  8\n",
       "5           Cyprus                  2\n",
       "6            China                 17\n",
       "7          Germany                  5\n",
       "8           Mexico                  1\n",
       "9            Italy                  3\n",
       "10         Ukraine                  1\n",
       "11         Ireland                  2\n",
       "12       Australia                  4\n",
       "13       Hong Kong                  1\n",
       "14           Chile                  3\n",
       "15           Spain                  4\n",
       "16          France                  1\n",
       "17         Denamrk                  2\n",
       "18               0                  2\n",
       "19          Canada                  3\n",
       "20         Denmark                  1\n",
       "21  Czech Republic                  1\n",
       "22   Liechtenstein                  1\n",
       "23       Palestine                  1\n",
       "24          Russia                  1\n",
       "25        Slovakia                  1\n",
       "26        Malaysia                  1\n",
       "27        Pakistan                  1\n",
       "28           India                  1\n",
       "29     Switzerland                  1"
      ]
     },
     "execution_count": 892,
     "metadata": {},
     "output_type": "execute_result"
    }
   ],
   "source": [
    "countries.head(30)"
   ]
  },
  {
   "cell_type": "code",
   "execution_count": 901,
   "metadata": {},
   "outputs": [],
   "source": [
    "countries = countries.sort_values(['Publication Count'], ascending=True)\n",
    "countries.reset_index(inplace=True)\n",
    "countries.drop(['index'], axis=1, inplace=True)\n",
    "countries.rename(columns={'Country' : 'name'}, inplace=True)"
   ]
  },
  {
   "cell_type": "code",
   "execution_count": 900,
   "metadata": {},
   "outputs": [
    {
     "data": {
      "text/html": [
       "<div>\n",
       "<style scoped>\n",
       "    .dataframe tbody tr th:only-of-type {\n",
       "        vertical-align: middle;\n",
       "    }\n",
       "\n",
       "    .dataframe tbody tr th {\n",
       "        vertical-align: top;\n",
       "    }\n",
       "\n",
       "    .dataframe thead th {\n",
       "        text-align: right;\n",
       "    }\n",
       "</style>\n",
       "<table border=\"1\" class=\"dataframe\">\n",
       "  <thead>\n",
       "    <tr style=\"text-align: right;\">\n",
       "      <th></th>\n",
       "      <th>pop_est</th>\n",
       "      <th>continent</th>\n",
       "      <th>name</th>\n",
       "      <th>iso_a3</th>\n",
       "      <th>gdp_md_est</th>\n",
       "      <th>geometry</th>\n",
       "    </tr>\n",
       "  </thead>\n",
       "  <tbody>\n",
       "    <tr>\n",
       "      <th>0</th>\n",
       "      <td>889953.0</td>\n",
       "      <td>Oceania</td>\n",
       "      <td>Fiji</td>\n",
       "      <td>FJI</td>\n",
       "      <td>5496</td>\n",
       "      <td>MULTIPOLYGON (((180.00000 -16.06713, 180.00000...</td>\n",
       "    </tr>\n",
       "    <tr>\n",
       "      <th>1</th>\n",
       "      <td>58005463.0</td>\n",
       "      <td>Africa</td>\n",
       "      <td>Tanzania</td>\n",
       "      <td>TZA</td>\n",
       "      <td>63177</td>\n",
       "      <td>POLYGON ((33.90371 -0.95000, 34.07262 -1.05982...</td>\n",
       "    </tr>\n",
       "    <tr>\n",
       "      <th>2</th>\n",
       "      <td>603253.0</td>\n",
       "      <td>Africa</td>\n",
       "      <td>W. Sahara</td>\n",
       "      <td>ESH</td>\n",
       "      <td>907</td>\n",
       "      <td>POLYGON ((-8.66559 27.65643, -8.66512 27.58948...</td>\n",
       "    </tr>\n",
       "    <tr>\n",
       "      <th>3</th>\n",
       "      <td>37589262.0</td>\n",
       "      <td>North America</td>\n",
       "      <td>Canada</td>\n",
       "      <td>CAN</td>\n",
       "      <td>1736425</td>\n",
       "      <td>MULTIPOLYGON (((-122.84000 49.00000, -122.9742...</td>\n",
       "    </tr>\n",
       "    <tr>\n",
       "      <th>4</th>\n",
       "      <td>328239523.0</td>\n",
       "      <td>North America</td>\n",
       "      <td>United States of America</td>\n",
       "      <td>USA</td>\n",
       "      <td>21433226</td>\n",
       "      <td>MULTIPOLYGON (((-122.84000 49.00000, -120.0000...</td>\n",
       "    </tr>\n",
       "  </tbody>\n",
       "</table>\n",
       "</div>"
      ],
      "text/plain": [
       "       pop_est      continent                      name iso_a3  gdp_md_est  \\\n",
       "0     889953.0        Oceania                      Fiji    FJI        5496   \n",
       "1   58005463.0         Africa                  Tanzania    TZA       63177   \n",
       "2     603253.0         Africa                 W. Sahara    ESH         907   \n",
       "3   37589262.0  North America                    Canada    CAN     1736425   \n",
       "4  328239523.0  North America  United States of America    USA    21433226   \n",
       "\n",
       "                                            geometry  \n",
       "0  MULTIPOLYGON (((180.00000 -16.06713, 180.00000...  \n",
       "1  POLYGON ((33.90371 -0.95000, 34.07262 -1.05982...  \n",
       "2  POLYGON ((-8.66559 27.65643, -8.66512 27.58948...  \n",
       "3  MULTIPOLYGON (((-122.84000 49.00000, -122.9742...  \n",
       "4  MULTIPOLYGON (((-122.84000 49.00000, -120.0000...  "
      ]
     },
     "execution_count": 900,
     "metadata": {},
     "output_type": "execute_result"
    }
   ],
   "source": [
    "world = geopandas.read_file(geopandas.datasets.get_path('naturalearth_lowres')) \n",
    "world.head()\n"
   ]
  },
  {
   "cell_type": "code",
   "execution_count": 905,
   "metadata": {},
   "outputs": [
    {
     "data": {
      "text/html": [
       "<div>\n",
       "<style scoped>\n",
       "    .dataframe tbody tr th:only-of-type {\n",
       "        vertical-align: middle;\n",
       "    }\n",
       "\n",
       "    .dataframe tbody tr th {\n",
       "        vertical-align: top;\n",
       "    }\n",
       "\n",
       "    .dataframe thead th {\n",
       "        text-align: right;\n",
       "    }\n",
       "</style>\n",
       "<table border=\"1\" class=\"dataframe\">\n",
       "  <thead>\n",
       "    <tr style=\"text-align: right;\">\n",
       "      <th></th>\n",
       "      <th>pop_est</th>\n",
       "      <th>continent</th>\n",
       "      <th>name</th>\n",
       "      <th>iso_a3</th>\n",
       "      <th>gdp_md_est</th>\n",
       "      <th>geometry</th>\n",
       "      <th>Publication Count_x</th>\n",
       "      <th>Publication Count_y</th>\n",
       "      <th>Publication Count</th>\n",
       "    </tr>\n",
       "  </thead>\n",
       "  <tbody>\n",
       "    <tr>\n",
       "      <th>0</th>\n",
       "      <td>889953.0</td>\n",
       "      <td>Oceania</td>\n",
       "      <td>Fiji</td>\n",
       "      <td>FJI</td>\n",
       "      <td>5496</td>\n",
       "      <td>MULTIPOLYGON (((180.00000 -16.06713, 180.00000...</td>\n",
       "      <td>0.0</td>\n",
       "      <td>0.0</td>\n",
       "      <td>0.0</td>\n",
       "    </tr>\n",
       "    <tr>\n",
       "      <th>1</th>\n",
       "      <td>58005463.0</td>\n",
       "      <td>Africa</td>\n",
       "      <td>Tanzania</td>\n",
       "      <td>TZA</td>\n",
       "      <td>63177</td>\n",
       "      <td>POLYGON ((33.90371 -0.95000, 34.07262 -1.05982...</td>\n",
       "      <td>0.0</td>\n",
       "      <td>0.0</td>\n",
       "      <td>0.0</td>\n",
       "    </tr>\n",
       "    <tr>\n",
       "      <th>2</th>\n",
       "      <td>603253.0</td>\n",
       "      <td>Africa</td>\n",
       "      <td>W. Sahara</td>\n",
       "      <td>ESH</td>\n",
       "      <td>907</td>\n",
       "      <td>POLYGON ((-8.66559 27.65643, -8.66512 27.58948...</td>\n",
       "      <td>0.0</td>\n",
       "      <td>0.0</td>\n",
       "      <td>0.0</td>\n",
       "    </tr>\n",
       "    <tr>\n",
       "      <th>3</th>\n",
       "      <td>37589262.0</td>\n",
       "      <td>North America</td>\n",
       "      <td>Canada</td>\n",
       "      <td>CAN</td>\n",
       "      <td>1736425</td>\n",
       "      <td>MULTIPOLYGON (((-122.84000 49.00000, -122.9742...</td>\n",
       "      <td>3.0</td>\n",
       "      <td>3.0</td>\n",
       "      <td>3.0</td>\n",
       "    </tr>\n",
       "    <tr>\n",
       "      <th>4</th>\n",
       "      <td>328239523.0</td>\n",
       "      <td>North America</td>\n",
       "      <td>United States of America</td>\n",
       "      <td>USA</td>\n",
       "      <td>21433226</td>\n",
       "      <td>MULTIPOLYGON (((-122.84000 49.00000, -120.0000...</td>\n",
       "      <td>0.0</td>\n",
       "      <td>0.0</td>\n",
       "      <td>0.0</td>\n",
       "    </tr>\n",
       "  </tbody>\n",
       "</table>\n",
       "</div>"
      ],
      "text/plain": [
       "       pop_est      continent                      name iso_a3  gdp_md_est  \\\n",
       "0     889953.0        Oceania                      Fiji    FJI        5496   \n",
       "1   58005463.0         Africa                  Tanzania    TZA       63177   \n",
       "2     603253.0         Africa                 W. Sahara    ESH         907   \n",
       "3   37589262.0  North America                    Canada    CAN     1736425   \n",
       "4  328239523.0  North America  United States of America    USA    21433226   \n",
       "\n",
       "                                            geometry  Publication Count_x  \\\n",
       "0  MULTIPOLYGON (((180.00000 -16.06713, 180.00000...                  0.0   \n",
       "1  POLYGON ((33.90371 -0.95000, 34.07262 -1.05982...                  0.0   \n",
       "2  POLYGON ((-8.66559 27.65643, -8.66512 27.58948...                  0.0   \n",
       "3  MULTIPOLYGON (((-122.84000 49.00000, -122.9742...                  3.0   \n",
       "4  MULTIPOLYGON (((-122.84000 49.00000, -120.0000...                  0.0   \n",
       "\n",
       "   Publication Count_y  Publication Count  \n",
       "0                  0.0                0.0  \n",
       "1                  0.0                0.0  \n",
       "2                  0.0                0.0  \n",
       "3                  3.0                3.0  \n",
       "4                  0.0                0.0  "
      ]
     },
     "execution_count": 905,
     "metadata": {},
     "output_type": "execute_result"
    }
   ],
   "source": [
    "world = pd.merge(world, countries, on='name', how='left').fillna(0)\n",
    "world.head()"
   ]
  },
  {
   "cell_type": "code",
   "execution_count": 908,
   "metadata": {},
   "outputs": [
    {
     "data": {
      "text/plain": [
       "<AxesSubplot:>"
      ]
     },
     "execution_count": 908,
     "metadata": {},
     "output_type": "execute_result"
    },
    {
     "data": {
      "image/png": "[encoded data removed]",
      "text/plain": [
       "<Figure size 640x480 with 2 Axes>"
      ]
     },
     "metadata": {},
     "output_type": "display_data"
    }
   ],
   "source": [
    "fix, ax = plt.subplots(1,1)\n",
    "world.plot(ax=ax, column='Publication Count', legend=True)"
   ]
  },
  {
   "cell_type": "code",
   "execution_count": null,
   "metadata": {},
   "outputs": [],
   "source": [
    "institutions = {} \n",
    "temp = \"\"\n",
    "for index in range(df.shape[0]):\n",
    "    if temp == df.loc[index]['Title']:\n",
    "        continue\n",
    "    title = df.loc[index]['Title']\n",
    "    temp = title\n",
    "    school = df.loc[index]['Author Affiliation']\n",
    "    if school in institutions:\n",
    "        count = institutions[school] + 1\n",
    "        institutions[school] = count\n",
    "    else:\n",
    "        institutions[school] = 1"
   ]
  },
  {
   "cell_type": "code",
   "execution_count": null,
   "metadata": {},
   "outputs": [],
   "source": [
    "top_5 = sorted(institutions.items(), key=lambda x: x[1], reverse=True)\n"
   ]
  },
  {
   "cell_type": "code",
   "execution_count": null,
   "metadata": {},
   "outputs": [
    {
     "name": "stdout",
     "output_type": "stream",
     "text": [
      "Top 5 Universities with the Most Publications:\n",
      "1. Cyprus University of Technology\n",
      "2. University of Copenhagen\n",
      "3. Fudan University \n",
      "4. National Taiwan Ocean University\n",
      "5. Daejeon Health Institute of Technology\n"
     ]
    }
   ],
   "source": [
    "print(\"Top 5 Universities with the Most Publications:\")\n",
    "rank = 1\n",
    "for school in top_5:\n",
    "    print(str(rank) + \". \" + str(school[0]))\n",
    "    rank = rank + 1\n",
    "    if rank == 6:\n",
    "        break"
   ]
  },
  {
   "cell_type": "code",
   "execution_count": null,
   "metadata": {},
   "outputs": [
    {
     "data": {
      "text/html": [
       "<div>\n",
       "<style scoped>\n",
       "    .dataframe tbody tr th:only-of-type {\n",
       "        vertical-align: middle;\n",
       "    }\n",
       "\n",
       "    .dataframe tbody tr th {\n",
       "        vertical-align: top;\n",
       "    }\n",
       "\n",
       "    .dataframe thead th {\n",
       "        text-align: right;\n",
       "    }\n",
       "</style>\n",
       "<table border=\"1\" class=\"dataframe\">\n",
       "  <thead>\n",
       "    <tr style=\"text-align: right;\">\n",
       "      <th></th>\n",
       "      <th>Article No.</th>\n",
       "      <th>Title</th>\n",
       "      <th>Year</th>\n",
       "      <th>Author Number</th>\n",
       "      <th>Key Words</th>\n",
       "      <th>Citation</th>\n",
       "      <th>Source</th>\n",
       "      <th>Abstract</th>\n",
       "      <th>Type</th>\n",
       "      <th>Author Name</th>\n",
       "      <th>Author Affiliation</th>\n",
       "      <th>Country</th>\n",
       "      <th>h-index</th>\n",
       "    </tr>\n",
       "  </thead>\n",
       "  <tbody>\n",
       "    <tr>\n",
       "      <th>0</th>\n",
       "      <td>1</td>\n",
       "      <td>Study of Virtual Reality Immersive Technology ...</td>\n",
       "      <td>2022</td>\n",
       "      <td>3.0</td>\n",
       "      <td>virtual reality technologies, mathematics lear...</td>\n",
       "      <td>7.0</td>\n",
       "      <td>FRONTIERS IN PSYCHOLOGY</td>\n",
       "      <td>Mathematics is an important foundation for the...</td>\n",
       "      <td>Journal</td>\n",
       "      <td>Yu-Sheng Su</td>\n",
       "      <td>National Taiwan Ocean University</td>\n",
       "      <td>Taiwan</td>\n",
       "      <td>0.0</td>\n",
       "    </tr>\n",
       "    <tr>\n",
       "      <th>1</th>\n",
       "      <td>1</td>\n",
       "      <td>Study of Virtual Reality Immersive Technology ...</td>\n",
       "      <td>2022</td>\n",
       "      <td>3.0</td>\n",
       "      <td>virtual reality technologies, mathematics lear...</td>\n",
       "      <td>7.0</td>\n",
       "      <td>FRONTIERS IN PSYCHOLOGY</td>\n",
       "      <td>Mathematics is an important foundation for the...</td>\n",
       "      <td>Journal</td>\n",
       "      <td>Hung-Wei Cheng</td>\n",
       "      <td>National Taiwan Ocean University</td>\n",
       "      <td>Taiwan</td>\n",
       "      <td>0.0</td>\n",
       "    </tr>\n",
       "    <tr>\n",
       "      <th>2</th>\n",
       "      <td>1</td>\n",
       "      <td>Study of Virtual Reality Immersive Technology ...</td>\n",
       "      <td>2022</td>\n",
       "      <td>3.0</td>\n",
       "      <td>virtual reality technologies, mathematics lear...</td>\n",
       "      <td>7.0</td>\n",
       "      <td>FRONTIERS IN PSYCHOLOGY</td>\n",
       "      <td>Mathematics is an important foundation for the...</td>\n",
       "      <td>Journal</td>\n",
       "      <td>Chin-Feng Lai</td>\n",
       "      <td>National Cheng Kung University</td>\n",
       "      <td>Taiwan</td>\n",
       "      <td>0.0</td>\n",
       "    </tr>\n",
       "    <tr>\n",
       "      <th>3</th>\n",
       "      <td>2</td>\n",
       "      <td>Factors Influencing Nursing Students' Immersiv...</td>\n",
       "      <td>2021</td>\n",
       "      <td>2.0</td>\n",
       "      <td>virtual reality; learning; immersive media tec...</td>\n",
       "      <td>3.0</td>\n",
       "      <td>SENSORS</td>\n",
       "      <td>Background/objectives: This study aims to iden...</td>\n",
       "      <td>Journal</td>\n",
       "      <td>Youngju Kim</td>\n",
       "      <td>Daejeon Health Institute of Technology</td>\n",
       "      <td>Korea</td>\n",
       "      <td>0.0</td>\n",
       "    </tr>\n",
       "    <tr>\n",
       "      <th>4</th>\n",
       "      <td>2</td>\n",
       "      <td>Factors Influencing Nursing Students' Immersiv...</td>\n",
       "      <td>2021</td>\n",
       "      <td>2.0</td>\n",
       "      <td>virtual reality; learning; immersive media tec...</td>\n",
       "      <td>3.0</td>\n",
       "      <td>SENSORS</td>\n",
       "      <td>Background/objectives: This study aims to iden...</td>\n",
       "      <td>Journal</td>\n",
       "      <td>Sung Yun Ahn</td>\n",
       "      <td>Pai Chai University</td>\n",
       "      <td>Korea</td>\n",
       "      <td>0.0</td>\n",
       "    </tr>\n",
       "  </tbody>\n",
       "</table>\n",
       "</div>"
      ],
      "text/plain": [
       "   Article No.                                              Title  Year  \\\n",
       "0            1  Study of Virtual Reality Immersive Technology ...  2022   \n",
       "1            1  Study of Virtual Reality Immersive Technology ...  2022   \n",
       "2            1  Study of Virtual Reality Immersive Technology ...  2022   \n",
       "3            2  Factors Influencing Nursing Students' Immersiv...  2021   \n",
       "4            2  Factors Influencing Nursing Students' Immersiv...  2021   \n",
       "\n",
       "   Author Number                                          Key Words  Citation  \\\n",
       "0            3.0  virtual reality technologies, mathematics lear...       7.0   \n",
       "1            3.0  virtual reality technologies, mathematics lear...       7.0   \n",
       "2            3.0  virtual reality technologies, mathematics lear...       7.0   \n",
       "3            2.0  virtual reality; learning; immersive media tec...       3.0   \n",
       "4            2.0  virtual reality; learning; immersive media tec...       3.0   \n",
       "\n",
       "                    Source                                           Abstract  \\\n",
       "0  FRONTIERS IN PSYCHOLOGY  Mathematics is an important foundation for the...   \n",
       "1  FRONTIERS IN PSYCHOLOGY  Mathematics is an important foundation for the...   \n",
       "2  FRONTIERS IN PSYCHOLOGY  Mathematics is an important foundation for the...   \n",
       "3                  SENSORS  Background/objectives: This study aims to iden...   \n",
       "4                  SENSORS  Background/objectives: This study aims to iden...   \n",
       "\n",
       "      Type     Author Name                      Author Affiliation Country  \\\n",
       "0  Journal     Yu-Sheng Su        National Taiwan Ocean University  Taiwan   \n",
       "1  Journal  Hung-Wei Cheng        National Taiwan Ocean University  Taiwan   \n",
       "2  Journal   Chin-Feng Lai          National Cheng Kung University  Taiwan   \n",
       "3  Journal     Youngju Kim  Daejeon Health Institute of Technology   Korea   \n",
       "4  Journal    Sung Yun Ahn                     Pai Chai University   Korea   \n",
       "\n",
       "   h-index  \n",
       "0      0.0  \n",
       "1      0.0  \n",
       "2      0.0  \n",
       "3      0.0  \n",
       "4      0.0  "
      ]
     },
     "execution_count": 677,
     "metadata": {},
     "output_type": "execute_result"
    }
   ],
   "source": [
    "df.head()"
   ]
  },
  {
   "cell_type": "code",
   "execution_count": null,
   "metadata": {},
   "outputs": [],
   "source": [
    "highest_h = {}\n",
    "for index in range(df.shape[0]):\n",
    "    author = df.loc[index]['Author Name']\n",
    "    h = df.loc[index]['h-index']\n",
    "    if author in highest_h:\n",
    "        count = highest_h[author] + h\n",
    "        highest_h[author] = count\n",
    "    else:\n",
    "        highest_h[author] = h"
   ]
  },
  {
   "cell_type": "code",
   "execution_count": null,
   "metadata": {},
   "outputs": [],
   "source": [
    "top_5 = sorted(highest_h.items(), key=lambda x: x[1], reverse=True)"
   ]
  },
  {
   "cell_type": "code",
   "execution_count": null,
   "metadata": {},
   "outputs": [
    {
     "name": "stdout",
     "output_type": "stream",
     "text": [
      "Top 5 Researchers with the Highest h-index:\n",
      "1. Ulrich Trautwein\n",
      "2. Nicolas Molinari\n",
      "3. George S. Athwal\n",
      "4. Sellappan Palaniappan\n",
      "5. Maria Luisa Lorusso\n"
     ]
    }
   ],
   "source": [
    "print(\"Top 5 Researchers with the Highest h-index:\")\n",
    "rank = 1\n",
    "for school in top_5:\n",
    "    print(str(rank) + \". \" + str(school[0]))\n",
    "    rank = rank + 1\n",
    "    if rank == 6:\n",
    "        break"
   ]
  },
  {
   "attachments": {},
   "cell_type": "markdown",
   "metadata": {},
   "source": [
    "Problem 2"
   ]
  },
  {
   "cell_type": "code",
   "execution_count": null,
   "metadata": {},
   "outputs": [],
   "source": [
    "df = pd.read_csv(r\"D:\\UF_Machine_Learning\\Undergraduate\\data.csv\")"
   ]
  },
  {
   "cell_type": "code",
   "execution_count": null,
   "metadata": {},
   "outputs": [
    {
     "data": {
      "text/html": [
       "<div>\n",
       "<style scoped>\n",
       "    .dataframe tbody tr th:only-of-type {\n",
       "        vertical-align: middle;\n",
       "    }\n",
       "\n",
       "    .dataframe tbody tr th {\n",
       "        vertical-align: top;\n",
       "    }\n",
       "\n",
       "    .dataframe thead th {\n",
       "        text-align: right;\n",
       "    }\n",
       "</style>\n",
       "<table border=\"1\" class=\"dataframe\">\n",
       "  <thead>\n",
       "    <tr style=\"text-align: right;\">\n",
       "      <th></th>\n",
       "      <th>Purchase</th>\n",
       "      <th>SUS</th>\n",
       "      <th>Duration</th>\n",
       "      <th>Gender</th>\n",
       "      <th>ASR_Error</th>\n",
       "      <th>Intent_Error</th>\n",
       "      <th>Unnamed: 6</th>\n",
       "    </tr>\n",
       "  </thead>\n",
       "  <tbody>\n",
       "    <tr>\n",
       "      <th>0</th>\n",
       "      <td>1</td>\n",
       "      <td>84</td>\n",
       "      <td>254</td>\n",
       "      <td>0</td>\n",
       "      <td>3</td>\n",
       "      <td>2</td>\n",
       "      <td>NaN</td>\n",
       "    </tr>\n",
       "    <tr>\n",
       "      <th>1</th>\n",
       "      <td>0</td>\n",
       "      <td>58</td>\n",
       "      <td>247</td>\n",
       "      <td>0</td>\n",
       "      <td>6</td>\n",
       "      <td>9</td>\n",
       "      <td>NaN</td>\n",
       "    </tr>\n",
       "    <tr>\n",
       "      <th>2</th>\n",
       "      <td>0</td>\n",
       "      <td>56</td>\n",
       "      <td>125</td>\n",
       "      <td>1</td>\n",
       "      <td>6</td>\n",
       "      <td>8</td>\n",
       "      <td>NaN</td>\n",
       "    </tr>\n",
       "    <tr>\n",
       "      <th>3</th>\n",
       "      <td>0</td>\n",
       "      <td>55</td>\n",
       "      <td>22</td>\n",
       "      <td>0</td>\n",
       "      <td>11</td>\n",
       "      <td>7</td>\n",
       "      <td>NaN</td>\n",
       "    </tr>\n",
       "    <tr>\n",
       "      <th>4</th>\n",
       "      <td>1</td>\n",
       "      <td>95</td>\n",
       "      <td>262</td>\n",
       "      <td>0</td>\n",
       "      <td>2</td>\n",
       "      <td>3</td>\n",
       "      <td>NaN</td>\n",
       "    </tr>\n",
       "  </tbody>\n",
       "</table>\n",
       "</div>"
      ],
      "text/plain": [
       "   Purchase  SUS  Duration  Gender  ASR_Error  Intent_Error  Unnamed: 6\n",
       "0         1   84       254       0          3             2         NaN\n",
       "1         0   58       247       0          6             9         NaN\n",
       "2         0   56       125       1          6             8         NaN\n",
       "3         0   55        22       0         11             7         NaN\n",
       "4         1   95       262       0          2             3         NaN"
      ]
     },
     "execution_count": 682,
     "metadata": {},
     "output_type": "execute_result"
    }
   ],
   "source": [
    "df.head()"
   ]
  },
  {
   "cell_type": "code",
   "execution_count": null,
   "metadata": {},
   "outputs": [],
   "source": [
    "df = df.drop(columns=['Unnamed: 6'], axis=1)"
   ]
  },
  {
   "cell_type": "code",
   "execution_count": null,
   "metadata": {},
   "outputs": [
    {
     "data": {
      "text/plain": [
       "Purchase        0\n",
       "SUS             0\n",
       "Duration        0\n",
       "Gender          0\n",
       "ASR_Error       0\n",
       "Intent_Error    0\n",
       "dtype: int64"
      ]
     },
     "execution_count": 684,
     "metadata": {},
     "output_type": "execute_result"
    }
   ],
   "source": [
    "df.isna().sum()"
   ]
  },
  {
   "cell_type": "code",
   "execution_count": null,
   "metadata": {},
   "outputs": [
    {
     "data": {
      "text/html": [
       "<div>\n",
       "<style scoped>\n",
       "    .dataframe tbody tr th:only-of-type {\n",
       "        vertical-align: middle;\n",
       "    }\n",
       "\n",
       "    .dataframe tbody tr th {\n",
       "        vertical-align: top;\n",
       "    }\n",
       "\n",
       "    .dataframe thead th {\n",
       "        text-align: right;\n",
       "    }\n",
       "</style>\n",
       "<table border=\"1\" class=\"dataframe\">\n",
       "  <thead>\n",
       "    <tr style=\"text-align: right;\">\n",
       "      <th></th>\n",
       "      <th>SUS</th>\n",
       "    </tr>\n",
       "  </thead>\n",
       "  <tbody>\n",
       "    <tr>\n",
       "      <th>0</th>\n",
       "      <td>84</td>\n",
       "    </tr>\n",
       "    <tr>\n",
       "      <th>1</th>\n",
       "      <td>58</td>\n",
       "    </tr>\n",
       "    <tr>\n",
       "      <th>2</th>\n",
       "      <td>56</td>\n",
       "    </tr>\n",
       "    <tr>\n",
       "      <th>3</th>\n",
       "      <td>55</td>\n",
       "    </tr>\n",
       "    <tr>\n",
       "      <th>4</th>\n",
       "      <td>95</td>\n",
       "    </tr>\n",
       "    <tr>\n",
       "      <th>...</th>\n",
       "      <td>...</td>\n",
       "    </tr>\n",
       "    <tr>\n",
       "      <th>95</th>\n",
       "      <td>57</td>\n",
       "    </tr>\n",
       "    <tr>\n",
       "      <th>96</th>\n",
       "      <td>93</td>\n",
       "    </tr>\n",
       "    <tr>\n",
       "      <th>97</th>\n",
       "      <td>80</td>\n",
       "    </tr>\n",
       "    <tr>\n",
       "      <th>98</th>\n",
       "      <td>82</td>\n",
       "    </tr>\n",
       "    <tr>\n",
       "      <th>99</th>\n",
       "      <td>78</td>\n",
       "    </tr>\n",
       "  </tbody>\n",
       "</table>\n",
       "<p>100 rows × 1 columns</p>\n",
       "</div>"
      ],
      "text/plain": [
       "    SUS\n",
       "0    84\n",
       "1    58\n",
       "2    56\n",
       "3    55\n",
       "4    95\n",
       "..  ...\n",
       "95   57\n",
       "96   93\n",
       "97   80\n",
       "98   82\n",
       "99   78\n",
       "\n",
       "[100 rows x 1 columns]"
      ]
     },
     "execution_count": 685,
     "metadata": {},
     "output_type": "execute_result"
    }
   ],
   "source": [
    "y = df[[\"SUS\"]]\n",
    "y\n"
   ]
  },
  {
   "cell_type": "code",
   "execution_count": null,
   "metadata": {},
   "outputs": [
    {
     "data": {
      "text/html": [
       "<div>\n",
       "<style scoped>\n",
       "    .dataframe tbody tr th:only-of-type {\n",
       "        vertical-align: middle;\n",
       "    }\n",
       "\n",
       "    .dataframe tbody tr th {\n",
       "        vertical-align: top;\n",
       "    }\n",
       "\n",
       "    .dataframe thead th {\n",
       "        text-align: right;\n",
       "    }\n",
       "</style>\n",
       "<table border=\"1\" class=\"dataframe\">\n",
       "  <thead>\n",
       "    <tr style=\"text-align: right;\">\n",
       "      <th></th>\n",
       "      <th>Purchase</th>\n",
       "      <th>Duration</th>\n",
       "      <th>Gender</th>\n",
       "      <th>ASR_Error</th>\n",
       "      <th>Intent_Error</th>\n",
       "    </tr>\n",
       "  </thead>\n",
       "  <tbody>\n",
       "    <tr>\n",
       "      <th>0</th>\n",
       "      <td>1</td>\n",
       "      <td>254</td>\n",
       "      <td>0</td>\n",
       "      <td>3</td>\n",
       "      <td>2</td>\n",
       "    </tr>\n",
       "    <tr>\n",
       "      <th>1</th>\n",
       "      <td>0</td>\n",
       "      <td>247</td>\n",
       "      <td>0</td>\n",
       "      <td>6</td>\n",
       "      <td>9</td>\n",
       "    </tr>\n",
       "    <tr>\n",
       "      <th>2</th>\n",
       "      <td>0</td>\n",
       "      <td>125</td>\n",
       "      <td>1</td>\n",
       "      <td>6</td>\n",
       "      <td>8</td>\n",
       "    </tr>\n",
       "    <tr>\n",
       "      <th>3</th>\n",
       "      <td>0</td>\n",
       "      <td>22</td>\n",
       "      <td>0</td>\n",
       "      <td>11</td>\n",
       "      <td>7</td>\n",
       "    </tr>\n",
       "    <tr>\n",
       "      <th>4</th>\n",
       "      <td>1</td>\n",
       "      <td>262</td>\n",
       "      <td>0</td>\n",
       "      <td>2</td>\n",
       "      <td>3</td>\n",
       "    </tr>\n",
       "    <tr>\n",
       "      <th>...</th>\n",
       "      <td>...</td>\n",
       "      <td>...</td>\n",
       "      <td>...</td>\n",
       "      <td>...</td>\n",
       "      <td>...</td>\n",
       "    </tr>\n",
       "    <tr>\n",
       "      <th>95</th>\n",
       "      <td>0</td>\n",
       "      <td>358</td>\n",
       "      <td>0</td>\n",
       "      <td>13</td>\n",
       "      <td>7</td>\n",
       "    </tr>\n",
       "    <tr>\n",
       "      <th>96</th>\n",
       "      <td>1</td>\n",
       "      <td>71</td>\n",
       "      <td>0</td>\n",
       "      <td>3</td>\n",
       "      <td>0</td>\n",
       "    </tr>\n",
       "    <tr>\n",
       "      <th>97</th>\n",
       "      <td>0</td>\n",
       "      <td>34</td>\n",
       "      <td>1</td>\n",
       "      <td>0</td>\n",
       "      <td>9</td>\n",
       "    </tr>\n",
       "    <tr>\n",
       "      <th>98</th>\n",
       "      <td>1</td>\n",
       "      <td>49</td>\n",
       "      <td>1</td>\n",
       "      <td>4</td>\n",
       "      <td>1</td>\n",
       "    </tr>\n",
       "    <tr>\n",
       "      <th>99</th>\n",
       "      <td>1</td>\n",
       "      <td>213</td>\n",
       "      <td>0</td>\n",
       "      <td>1</td>\n",
       "      <td>4</td>\n",
       "    </tr>\n",
       "  </tbody>\n",
       "</table>\n",
       "<p>100 rows × 5 columns</p>\n",
       "</div>"
      ],
      "text/plain": [
       "    Purchase  Duration  Gender  ASR_Error  Intent_Error\n",
       "0          1       254       0          3             2\n",
       "1          0       247       0          6             9\n",
       "2          0       125       1          6             8\n",
       "3          0        22       0         11             7\n",
       "4          1       262       0          2             3\n",
       "..       ...       ...     ...        ...           ...\n",
       "95         0       358       0         13             7\n",
       "96         1        71       0          3             0\n",
       "97         0        34       1          0             9\n",
       "98         1        49       1          4             1\n",
       "99         1       213       0          1             4\n",
       "\n",
       "[100 rows x 5 columns]"
      ]
     },
     "execution_count": 686,
     "metadata": {},
     "output_type": "execute_result"
    }
   ],
   "source": [
    "x = df.drop(columns=['SUS'], axis=1)\n",
    "x"
   ]
  },
  {
   "cell_type": "code",
   "execution_count": null,
   "metadata": {},
   "outputs": [],
   "source": [
    "from sklearn.linear_model import LinearRegression\n",
    "from sklearn.model_selection import train_test_split\n",
    "\n",
    "x_train, x_test, y_train, y_test = train_test_split(x, y, test_size=0.1)"
   ]
  },
  {
   "cell_type": "code",
   "execution_count": null,
   "metadata": {},
   "outputs": [
    {
     "name": "stdout",
     "output_type": "stream",
     "text": [
      "Coefficient of Determination:  0.46346746944497763\n"
     ]
    }
   ],
   "source": [
    "reg = LinearRegression().fit(x_train,y_train)\n",
    "y_predict = reg.predict(x_test)\n",
    "score = reg.score(x_test, y_test)\n",
    "print(\"Coefficient of Determination: \", score)"
   ]
  },
  {
   "cell_type": "code",
   "execution_count": null,
   "metadata": {},
   "outputs": [
    {
     "data": {
      "text/plain": [
       "SUS             1.000000\n",
       "Purchase        0.661931\n",
       "Gender          0.111523\n",
       "Duration       -0.006631\n",
       "ASR_Error      -0.662405\n",
       "Intent_Error   -0.693675\n",
       "Name: SUS, dtype: float64"
      ]
     },
     "execution_count": 689,
     "metadata": {},
     "output_type": "execute_result"
    }
   ],
   "source": [
    "corr_matrix = df.corr()\n",
    "corr_matrix[\"SUS\"].sort_values(ascending=False)"
   ]
  },
  {
   "attachments": {},
   "cell_type": "markdown",
   "metadata": {},
   "source": [
    "It would appear that Intent_Error, ASR_Error, and Purchase are significant features in correlation to SUS as shown by the corr_matrix. It appears that gender and duration are insignificant in relation to SUS."
   ]
  },
  {
   "cell_type": "code",
   "execution_count": null,
   "metadata": {},
   "outputs": [
    {
     "data": {
      "image/png": "[encoded data removed]",
      "text/plain": [
       "<Figure size 640x480 with 2 Axes>"
      ]
     },
     "metadata": {},
     "output_type": "display_data"
    }
   ],
   "source": [
    "ax = sns.heatmap(corr_matrix, annot=True)"
   ]
  },
  {
   "attachments": {},
   "cell_type": "markdown",
   "metadata": {},
   "source": [
    "3. I was not expecting Gender to play a significant role because Siri should not really be able to differentiate or discriminate between genders, however I was surprised that duration had such little effect in influencing SUS scores. I was expecting duration to be slightly more significant because I was assuming that longer interactions between Siri and the user would confuse Siri with more information. The other features were expected in my opinion. Purchase is clearly important because it shows whether Siri provided the user enough information to want to purchase a flight. As for ASR_Error and Intent_Error, those are significant because they reflected the number of errors that Siri made during its interaction with the user. These errors are impactly to SUS scores because they made the user experience more inconvenient overall as the number of these errors increased."
   ]
  },
  {
   "attachments": {},
   "cell_type": "markdown",
   "metadata": {},
   "source": [
    "4. The model suggests that the most influential factor is Intent_Error. Compared to the rest of the features, Intent_Error has the highest correlation (in terms of absolute value) as shown by the heat map above."
   ]
  },
  {
   "attachments": {},
   "cell_type": "markdown",
   "metadata": {},
   "source": [
    "5. I think that the reason why Intent_Error, ASR_Error, and Purchase are all significnat predictors for SUS is because they are all directly related to user convenience. In relation to the first 2, an increased number of errors implies that the user did not reach the solution to the query that they were looking for which would negatively impact their SUS score. As for purchase, it can be used as evidence as to whether a user was satisfied enough with the flight information to want to buy a flight."
   ]
  },
  {
   "attachments": {},
   "cell_type": "markdown",
   "metadata": {},
   "source": [
    "Part 3"
   ]
  },
  {
   "cell_type": "code",
   "execution_count": null,
   "metadata": {},
   "outputs": [],
   "source": [
    "y = x['Purchase']"
   ]
  },
  {
   "cell_type": "code",
   "execution_count": null,
   "metadata": {},
   "outputs": [],
   "source": [
    "x = x.drop(columns=['Purchase'], axis=1)"
   ]
  },
  {
   "cell_type": "code",
   "execution_count": null,
   "metadata": {},
   "outputs": [],
   "source": [
    "x = x.to_numpy()\n",
    "y = y.to_numpy()"
   ]
  },
  {
   "cell_type": "code",
   "execution_count": null,
   "metadata": {},
   "outputs": [],
   "source": [
    "from sklearn.preprocessing import StandardScaler\n",
    "from sklearn import linear_model\n",
    "from sklearn.model_selection import train_test_split\n",
    "\n",
    "scale = StandardScaler()\n",
    "scaled_X = scale.fit_transform(x)\n",
    "\n",
    "X_train, X_test, y_train, y_test = train_test_split(scaled_X, y, test_size = 0.15)"
   ]
  },
  {
   "cell_type": "code",
   "execution_count": null,
   "metadata": {},
   "outputs": [],
   "source": [
    "from sklearn.linear_model import LogisticRegression\n",
    "from sklearn.svm import SVC\n",
    "from sklearn.naive_bayes import GaussianNB\n",
    "from sklearn.ensemble import RandomForestClassifier\n",
    "from sklearn.metrics import ConfusionMatrixDisplay, confusion_matrix, roc_curve, auc, classification_report\n",
    "\n",
    "import matplotlib.pyplot as plt"
   ]
  },
  {
   "cell_type": "code",
   "execution_count": null,
   "metadata": {},
   "outputs": [],
   "source": [
    "lc = LogisticRegression()\n",
    "svc = SVC(probability=True)\n",
    "nbc = GaussianNB()\n",
    "rfc = RandomForestClassifier()"
   ]
  },
  {
   "cell_type": "code",
   "execution_count": null,
   "metadata": {},
   "outputs": [
    {
     "data": {
      "text/html": [
       "<style>#sk-container-id-13 {color: black;background-color: white;}#sk-container-id-13 pre{padding: 0;}#sk-container-id-13 div.sk-toggleable {background-color: white;}#sk-container-id-13 label.sk-toggleable__label {cursor: pointer;display: block;width: 100%;margin-bottom: 0;padding: 0.3em;box-sizing: border-box;text-align: center;}#sk-container-id-13 label.sk-toggleable__label-arrow:before {content: \"▸\";float: left;margin-right: 0.25em;color: #696969;}#sk-container-id-13 label.sk-toggleable__label-arrow:hover:before {color: black;}#sk-container-id-13 div.sk-estimator:hover label.sk-toggleable__label-arrow:before {color: black;}#sk-container-id-13 div.sk-toggleable__content {max-height: 0;max-width: 0;overflow: hidden;text-align: left;background-color: #f0f8ff;}#sk-container-id-13 div.sk-toggleable__content pre {margin: 0.2em;color: black;border-radius: 0.25em;background-color: #f0f8ff;}#sk-container-id-13 input.sk-toggleable__control:checked~div.sk-toggleable__content {max-height: 200px;max-width: 100%;overflow: auto;}#sk-container-id-13 input.sk-toggleable__control:checked~label.sk-toggleable__label-arrow:before {content: \"▾\";}#sk-container-id-13 div.sk-estimator input.sk-toggleable__control:checked~label.sk-toggleable__label {background-color: #d4ebff;}#sk-container-id-13 div.sk-label input.sk-toggleable__control:checked~label.sk-toggleable__label {background-color: #d4ebff;}#sk-container-id-13 input.sk-hidden--visually {border: 0;clip: rect(1px 1px 1px 1px);clip: rect(1px, 1px, 1px, 1px);height: 1px;margin: -1px;overflow: hidden;padding: 0;position: absolute;width: 1px;}#sk-container-id-13 div.sk-estimator {font-family: monospace;background-color: #f0f8ff;border: 1px dotted black;border-radius: 0.25em;box-sizing: border-box;margin-bottom: 0.5em;}#sk-container-id-13 div.sk-estimator:hover {background-color: #d4ebff;}#sk-container-id-13 div.sk-parallel-item::after {content: \"\";width: 100%;border-bottom: 1px solid gray;flex-grow: 1;}#sk-container-id-13 div.sk-label:hover label.sk-toggleable__label {background-color: #d4ebff;}#sk-container-id-13 div.sk-serial::before {content: \"\";position: absolute;border-left: 1px solid gray;box-sizing: border-box;top: 0;bottom: 0;left: 50%;z-index: 0;}#sk-container-id-13 div.sk-serial {display: flex;flex-direction: column;align-items: center;background-color: white;padding-right: 0.2em;padding-left: 0.2em;position: relative;}#sk-container-id-13 div.sk-item {position: relative;z-index: 1;}#sk-container-id-13 div.sk-parallel {display: flex;align-items: stretch;justify-content: center;background-color: white;position: relative;}#sk-container-id-13 div.sk-item::before, #sk-container-id-13 div.sk-parallel-item::before {content: \"\";position: absolute;border-left: 1px solid gray;box-sizing: border-box;top: 0;bottom: 0;left: 50%;z-index: -1;}#sk-container-id-13 div.sk-parallel-item {display: flex;flex-direction: column;z-index: 1;position: relative;background-color: white;}#sk-container-id-13 div.sk-parallel-item:first-child::after {align-self: flex-end;width: 50%;}#sk-container-id-13 div.sk-parallel-item:last-child::after {align-self: flex-start;width: 50%;}#sk-container-id-13 div.sk-parallel-item:only-child::after {width: 0;}#sk-container-id-13 div.sk-dashed-wrapped {border: 1px dashed gray;margin: 0 0.4em 0.5em 0.4em;box-sizing: border-box;padding-bottom: 0.4em;background-color: white;}#sk-container-id-13 div.sk-label label {font-family: monospace;font-weight: bold;display: inline-block;line-height: 1.2em;}#sk-container-id-13 div.sk-label-container {text-align: center;}#sk-container-id-13 div.sk-container {/* jupyter's `normalize.less` sets `[hidden] { display: none; }` but bootstrap.min.css set `[hidden] { display: none !important; }` so we also need the `!important` here to be able to override the default hidden behavior on the sphinx rendered scikit-learn.org. See: https://github.com/scikit-learn/scikit-learn/issues/21755 */display: inline-block !important;position: relative;}#sk-container-id-13 div.sk-text-repr-fallback {display: none;}</style><div id=\"sk-container-id-13\" class=\"sk-top-container\"><div class=\"sk-text-repr-fallback\"><pre>RandomForestClassifier()</pre><b>In a Jupyter environment, please rerun this cell to show the HTML representation or trust the notebook. <br />On GitHub, the HTML representation is unable to render, please try loading this page with nbviewer.org.</b></div><div class=\"sk-container\" hidden><div class=\"sk-item\"><div class=\"sk-estimator sk-toggleable\"><input class=\"sk-toggleable__control sk-hidden--visually\" id=\"sk-estimator-id-13\" type=\"checkbox\" checked><label for=\"sk-estimator-id-13\" class=\"sk-toggleable__label sk-toggleable__label-arrow\">RandomForestClassifier</label><div class=\"sk-toggleable__content\"><pre>RandomForestClassifier()</pre></div></div></div></div></div>"
      ],
      "text/plain": [
       "RandomForestClassifier()"
      ]
     },
     "execution_count": 697,
     "metadata": {},
     "output_type": "execute_result"
    }
   ],
   "source": [
    "lc.fit(X_train, y_train)\n",
    "svc.fit(X_train, y_train)\n",
    "nbc.fit(X_train, y_train)\n",
    "rfc.fit(X_train, y_train)"
   ]
  },
  {
   "cell_type": "code",
   "execution_count": null,
   "metadata": {},
   "outputs": [],
   "source": [
    "y_lc_predicted = lc.predict(X_test)\n",
    "y_lc_pred_proba = lc.predict_proba(X_test)\n",
    "\n",
    "y_svc_predicted = svc.predict(X_test)\n",
    "y_svc_pred_proba = svc.predict_proba(X_test)\n",
    "\n",
    "y_nbc_predicted = nbc.predict(X_test)\n",
    "y_nbc_pred_proba = nbc.predict_proba(X_test)\n",
    "\n",
    "y_rfc_predicted = rfc.predict(X_test)\n",
    "y_rfc_pred_proba = rfc.predict_proba(X_test)"
   ]
  },
  {
   "cell_type": "code",
   "execution_count": null,
   "metadata": {},
   "outputs": [
    {
     "name": "stdout",
     "output_type": "stream",
     "text": [
      "              precision    recall  f1-score   support\n",
      "\n",
      "           0       0.67      1.00      0.80         4\n",
      "           1       1.00      0.82      0.90        11\n",
      "\n",
      "    accuracy                           0.87        15\n",
      "   macro avg       0.83      0.91      0.85        15\n",
      "weighted avg       0.91      0.87      0.87        15\n",
      "\n",
      "              precision    recall  f1-score   support\n",
      "\n",
      "           0       0.57      1.00      0.73         4\n",
      "           1       1.00      0.73      0.84        11\n",
      "\n",
      "    accuracy                           0.80        15\n",
      "   macro avg       0.79      0.86      0.78        15\n",
      "weighted avg       0.89      0.80      0.81        15\n",
      "\n",
      "              precision    recall  f1-score   support\n",
      "\n",
      "           0       0.57      1.00      0.73         4\n",
      "           1       1.00      0.73      0.84        11\n",
      "\n",
      "    accuracy                           0.80        15\n",
      "   macro avg       0.79      0.86      0.78        15\n",
      "weighted avg       0.89      0.80      0.81        15\n",
      "\n",
      "              precision    recall  f1-score   support\n",
      "\n",
      "           0       0.57      1.00      0.73         4\n",
      "           1       1.00      0.73      0.84        11\n",
      "\n",
      "    accuracy                           0.80        15\n",
      "   macro avg       0.79      0.86      0.78        15\n",
      "weighted avg       0.89      0.80      0.81        15\n",
      "\n"
     ]
    },
    {
     "data": {
      "image/png": "[encoded data removed]",
      "text/plain": [
       "<Figure size 640x480 with 1 Axes>"
      ]
     },
     "metadata": {},
     "output_type": "display_data"
    },
    {
     "data": {
      "image/png": "[encoded data removed]",
      "text/plain": [
       "<Figure size 640x480 with 1 Axes>"
      ]
     },
     "metadata": {},
     "output_type": "display_data"
    },
    {
     "data": {
      "image/png": "[encoded data removed]",
      "text/plain": [
       "<Figure size 640x480 with 1 Axes>"
      ]
     },
     "metadata": {},
     "output_type": "display_data"
    },
    {
     "data": {
      "image/png": "[encoded data removed]",
      "text/plain": [
       "<Figure size 640x480 with 1 Axes>"
      ]
     },
     "metadata": {},
     "output_type": "display_data"
    },
    {
     "data": {
      "image/png": "[encoded data removed]",
      "text/plain": [
       "<Figure size 3000x1500 with 4 Axes>"
      ]
     },
     "metadata": {},
     "output_type": "display_data"
    }
   ],
   "source": [
    "print(classification_report(y_test, y_lc_predicted))\n",
    "print(classification_report(y_test, y_svc_predicted))\n",
    "print(classification_report(y_test, y_nbc_predicted))\n",
    "print(classification_report(y_test, y_rfc_predicted))\n",
    "\n",
    "models = ['Logistic Regression', 'Support Vector Machine', 'Naive Bayes Classifier', 'Random Forest Classifier']\n",
    "predictions = [y_lc_predicted, y_svc_predicted, y_nbc_predicted, y_rfc_predicted]\n",
    "pred_probabilities = [y_lc_pred_proba, y_svc_pred_proba, y_nbc_pred_proba, y_rfc_pred_proba]\n",
    "\n",
    "plot = 1\n",
    "\n",
    "for model, prediction, pred_proba in zip(models, predictions, pred_probabilities):\n",
    "    disp = ConfusionMatrixDisplay(confusion_matrix(y_test.ravel(), prediction))\n",
    "    disp.plot(\n",
    "        include_values=True,\n",
    "        cmap='gray',\n",
    "        colorbar=False\n",
    "    )\n",
    "    disp.ax_.set_title(f\"{model} Confusion Matrix\")\n",
    "\n",
    "plt.figure(figsize=(30, 15))\n",
    "plt.suptitle(\"ROC Curves\")\n",
    "plot_index = 1\n",
    "\n",
    "for model, prediction, pred_proba in zip(models, predictions, pred_probabilities):\n",
    "    fpr, tpr, thresholds = roc_curve(y_test, pred_proba[:, 1])\n",
    "    auc_score = auc(fpr, tpr)\n",
    "    plt.subplot(3, 2, plot_index)\n",
    "    plt.plot(fpr, tpr, 'r', label='ROC curve')\n",
    "    # pyplot.figure(figsize=(5, 5))\n",
    "    plt.title(f'Roc Curve - {model} - [AUC - {auc_score}]', fontsize=14)\n",
    "    plt.xlabel('FPR', fontsize=12)\n",
    "    plt.ylabel('TPR', fontsize=12)\n",
    "    plt.legend()\n",
    "    plot_index += 1\n",
    "plt.show()"
   ]
  },
  {
   "cell_type": "code",
   "execution_count": null,
   "metadata": {},
   "outputs": [],
   "source": []
  }
 ],
 "metadata": {
  "kernelspec": {
   "display_name": "env-basic",
   "language": "python",
   "name": "python3"
  },
  "language_info": {
   "codemirror_mode": {
    "name": "ipython",
    "version": 3
   },
   "file_extension": ".py",
   "mimetype": "text/x-python",
   "name": "python",
   "nbconvert_exporter": "python",
   "pygments_lexer": "ipython3",
   "version": "3.8.13"
  },
  "orig_nbformat": 4,
  "vscode": {
   "interpreter": {
    "hash": "84c06154e7a8515e2f323221bc5c4abce54bd9dd835a52719a34ddfea7a1dd22"
   }
  }
 },
 "nbformat": 4,
 "nbformat_minor": 2
}

{
 "cells": [
  {
   "cell_type": "code",
   "execution_count": 1,
   "metadata": {},
   "outputs": [],
   "source": [
    "import os\n",
    "import pandas as pd\n",
    "import numpy as np\n",
    "import matplotlib.pyplot as plt\n",
    "import seaborn as sns\n",
    "import geopandas"
   ]
  },
  {
   "cell_type": "code",
   "execution_count": 2,
   "metadata": {},
   "outputs": [],
   "source": [
    "df = pd.read_csv(\"articleInfo.csv\")\n",
    "df2 = pd.read_csv(\"authorInfo.csv\")"
   ]
  },
  {
   "cell_type": "code",
   "execution_count": 3,
   "metadata": {},
   "outputs": [],
   "source": [
    "df = pd.merge(df, df2, on='Article No.')\n",
    "df = df.fillna(0)"
   ]
  },
  {
   "cell_type": "code",
   "execution_count": 4,
   "metadata": {},
   "outputs": [
    {
     "data": {
      "text/html": [
       "<div>\n",
       "<style scoped>\n",
       "    .dataframe tbody tr th:only-of-type {\n",
       "        vertical-align: middle;\n",
       "    }\n",
       "\n",
       "    .dataframe tbody tr th {\n",
       "        vertical-align: top;\n",
       "    }\n",
       "\n",
       "    .dataframe thead th {\n",
       "        text-align: right;\n",
       "    }\n",
       "</style>\n",
       "<table border=\"1\" class=\"dataframe\">\n",
       "  <thead>\n",
       "    <tr style=\"text-align: right;\">\n",
       "      <th></th>\n",
       "      <th>Article No.</th>\n",
       "      <th>Title</th>\n",
       "      <th>Year</th>\n",
       "      <th>Author Number</th>\n",
       "      <th>Key Words</th>\n",
       "      <th>Citation</th>\n",
       "      <th>Source</th>\n",
       "      <th>Abstract</th>\n",
       "      <th>Type</th>\n",
       "      <th>Author Name</th>\n",
       "      <th>Author Affiliation</th>\n",
       "      <th>Country</th>\n",
       "      <th>h-index</th>\n",
       "    </tr>\n",
       "  </thead>\n",
       "  <tbody>\n",
       "    <tr>\n",
       "      <th>0</th>\n",
       "      <td>1</td>\n",
       "      <td>Study of Virtual Reality Immersive Technology ...</td>\n",
       "      <td>2022</td>\n",
       "      <td>3.0</td>\n",
       "      <td>virtual reality technologies, mathematics lear...</td>\n",
       "      <td>7.0</td>\n",
       "      <td>FRONTIERS IN PSYCHOLOGY</td>\n",
       "      <td>Mathematics is an important foundation for the...</td>\n",
       "      <td>Journal</td>\n",
       "      <td>Yu-Sheng Su</td>\n",
       "      <td>National Taiwan Ocean University</td>\n",
       "      <td>Taiwan</td>\n",
       "      <td>0.0</td>\n",
       "    </tr>\n",
       "    <tr>\n",
       "      <th>1</th>\n",
       "      <td>1</td>\n",
       "      <td>Study of Virtual Reality Immersive Technology ...</td>\n",
       "      <td>2022</td>\n",
       "      <td>3.0</td>\n",
       "      <td>virtual reality technologies, mathematics lear...</td>\n",
       "      <td>7.0</td>\n",
       "      <td>FRONTIERS IN PSYCHOLOGY</td>\n",
       "      <td>Mathematics is an important foundation for the...</td>\n",
       "      <td>Journal</td>\n",
       "      <td>Hung-Wei Cheng</td>\n",
       "      <td>National Taiwan Ocean University</td>\n",
       "      <td>Taiwan</td>\n",
       "      <td>0.0</td>\n",
       "    </tr>\n",
       "    <tr>\n",
       "      <th>2</th>\n",
       "      <td>1</td>\n",
       "      <td>Study of Virtual Reality Immersive Technology ...</td>\n",
       "      <td>2022</td>\n",
       "      <td>3.0</td>\n",
       "      <td>virtual reality technologies, mathematics lear...</td>\n",
       "      <td>7.0</td>\n",
       "      <td>FRONTIERS IN PSYCHOLOGY</td>\n",
       "      <td>Mathematics is an important foundation for the...</td>\n",
       "      <td>Journal</td>\n",
       "      <td>Chin-Feng Lai</td>\n",
       "      <td>National Cheng Kung University</td>\n",
       "      <td>Taiwan</td>\n",
       "      <td>0.0</td>\n",
       "    </tr>\n",
       "    <tr>\n",
       "      <th>3</th>\n",
       "      <td>2</td>\n",
       "      <td>Factors Influencing Nursing Students' Immersiv...</td>\n",
       "      <td>2021</td>\n",
       "      <td>2.0</td>\n",
       "      <td>virtual reality; learning; immersive media tec...</td>\n",
       "      <td>3.0</td>\n",
       "      <td>SENSORS</td>\n",
       "      <td>Background/objectives: This study aims to iden...</td>\n",
       "      <td>Journal</td>\n",
       "      <td>Youngju Kim</td>\n",
       "      <td>Daejeon Health Institute of Technology</td>\n",
       "      <td>Korea</td>\n",
       "      <td>0.0</td>\n",
       "    </tr>\n",
       "    <tr>\n",
       "      <th>4</th>\n",
       "      <td>2</td>\n",
       "      <td>Factors Influencing Nursing Students' Immersiv...</td>\n",
       "      <td>2021</td>\n",
       "      <td>2.0</td>\n",
       "      <td>virtual reality; learning; immersive media tec...</td>\n",
       "      <td>3.0</td>\n",
       "      <td>SENSORS</td>\n",
       "      <td>Background/objectives: This study aims to iden...</td>\n",
       "      <td>Journal</td>\n",
       "      <td>Sung Yun Ahn</td>\n",
       "      <td>Pai Chai University</td>\n",
       "      <td>Korea</td>\n",
       "      <td>0.0</td>\n",
       "    </tr>\n",
       "  </tbody>\n",
       "</table>\n",
       "</div>"
      ],
      "text/plain": [
       "   Article No.                                              Title  Year  \\\n",
       "0            1  Study of Virtual Reality Immersive Technology ...  2022   \n",
       "1            1  Study of Virtual Reality Immersive Technology ...  2022   \n",
       "2            1  Study of Virtual Reality Immersive Technology ...  2022   \n",
       "3            2  Factors Influencing Nursing Students' Immersiv...  2021   \n",
       "4            2  Factors Influencing Nursing Students' Immersiv...  2021   \n",
       "\n",
       "   Author Number                                          Key Words  Citation  \\\n",
       "0            3.0  virtual reality technologies, mathematics lear...       7.0   \n",
       "1            3.0  virtual reality technologies, mathematics lear...       7.0   \n",
       "2            3.0  virtual reality technologies, mathematics lear...       7.0   \n",
       "3            2.0  virtual reality; learning; immersive media tec...       3.0   \n",
       "4            2.0  virtual reality; learning; immersive media tec...       3.0   \n",
       "\n",
       "                    Source                                           Abstract  \\\n",
       "0  FRONTIERS IN PSYCHOLOGY  Mathematics is an important foundation for the...   \n",
       "1  FRONTIERS IN PSYCHOLOGY  Mathematics is an important foundation for the...   \n",
       "2  FRONTIERS IN PSYCHOLOGY  Mathematics is an important foundation for the...   \n",
       "3                  SENSORS  Background/objectives: This study aims to iden...   \n",
       "4                  SENSORS  Background/objectives: This study aims to iden...   \n",
       "\n",
       "      Type     Author Name                      Author Affiliation Country  \\\n",
       "0  Journal     Yu-Sheng Su        National Taiwan Ocean University  Taiwan   \n",
       "1  Journal  Hung-Wei Cheng        National Taiwan Ocean University  Taiwan   \n",
       "2  Journal   Chin-Feng Lai          National Cheng Kung University  Taiwan   \n",
       "3  Journal     Youngju Kim  Daejeon Health Institute of Technology   Korea   \n",
       "4  Journal    Sung Yun Ahn                     Pai Chai University   Korea   \n",
       "\n",
       "   h-index  \n",
       "0      0.0  \n",
       "1      0.0  \n",
       "2      0.0  \n",
       "3      0.0  \n",
       "4      0.0  "
      ]
     },
     "execution_count": 4,
     "metadata": {},
     "output_type": "execute_result"
    }
   ],
   "source": [
    "df.head()"
   ]
  },
  {
   "attachments": {},
   "cell_type": "markdown",
   "metadata": {},
   "source": [
    "Problem 1"
   ]
  },
  {
   "cell_type": "code",
   "execution_count": 5,
   "metadata": {},
   "outputs": [],
   "source": [
    "publications = {}\n",
    "citations = {}\n",
    "countries = {}\n",
    "temp = \"\"\n",
    "for index in range(df.shape[0]):\n",
    "    if temp == df.loc[index]['Title']:\n",
    "        continue\n",
    "    title = df.loc[index]['Title']\n",
    "    cite = df.loc[index]['Citation']\n",
    "    temp = title\n",
    "    year = df.loc[index]['Year']\n",
    "    if year in publications:\n",
    "        count = publications[year] + 1\n",
    "        publications[year] = count\n",
    "        count = citations[year] + cite\n",
    "        citations[year] = count\n",
    "    else:\n",
    "        publications[year] = 1\n",
    "        citations[year] = cite\n"
   ]
  },
  {
   "cell_type": "code",
   "execution_count": 6,
   "metadata": {},
   "outputs": [
    {
     "data": {
      "text/plain": [
       "[Text(0.5, 1.0, 'Yearly Publication'),\n",
       " Text(0.5, 0, 'Year'),\n",
       " Text(0, 0.5, '# of Publications')]"
      ]
     },
     "execution_count": 6,
     "metadata": {},
     "output_type": "execute_result"
    },
    {
     "data": {
      "image/png": "[encoded data removed]",
      "text/plain": [
       "<Figure size 640x480 with 1 Axes>"
      ]
     },
     "metadata": {},
     "output_type": "display_data"
    }
   ],
   "source": [
    "keys = list(publications.keys())\n",
    "vals = list(publications.values())\n",
    "sns.barplot(x=keys, y=vals).set(title=\"Yearly Publication\", xlabel =\"Year\", ylabel=\"# of Publications\")"
   ]
  },
  {
   "cell_type": "code",
   "execution_count": 7,
   "metadata": {},
   "outputs": [
    {
     "data": {
      "text/plain": [
       "[Text(0.5, 1.0, 'Yearly Citations'),\n",
       " Text(0.5, 0, 'Year'),\n",
       " Text(0, 0.5, '# of Citations')]"
      ]
     },
     "execution_count": 7,
     "metadata": {},
     "output_type": "execute_result"
    },
    {
     "data": {
      "image/png": "[encoded data removed]",
      "text/plain": [
       "<Figure size 640x480 with 1 Axes>"
      ]
     },
     "metadata": {},
     "output_type": "display_data"
    }
   ],
   "source": [
    "keys = list(citations.keys())\n",
    "vals = list(citations.values())\n",
    "sns.barplot(x=keys, y=vals).set(title=\"Yearly Citations\", xlabel =\"Year\", ylabel=\"# of Citations\")"
   ]
  },
  {
   "cell_type": "code",
   "execution_count": 8,
   "metadata": {},
   "outputs": [],
   "source": [
    "countries = {}\n",
    "temp = \"\"\n",
    "for index in range(df.shape[0]):\n",
    "    if temp == df.loc[index]['Title']:\n",
    "        continue\n",
    "    title = df.loc[index]['Title']\n",
    "    temp = title\n",
    "    country = df.loc[index]['Country']\n",
    "    if country in countries:\n",
    "        count = countries[country] + 1\n",
    "        countries[country] = count\n",
    "    else:\n",
    "        countries[country] = 1\n"
   ]
  },
  {
   "cell_type": "code",
   "execution_count": 9,
   "metadata": {},
   "outputs": [
    {
     "data": {
      "text/plain": [
       "<AxesSubplot:>"
      ]
     },
     "execution_count": 9,
     "metadata": {},
     "output_type": "execute_result"
    },
    {
     "data": {
      "image/png": "[encoded data removed]",
      "text/plain": [
       "<Figure size 640x480 with 1 Axes>"
      ]
     },
     "metadata": {},
     "output_type": "display_data"
    }
   ],
   "source": [
    "world = geopandas.read_file(geopandas.datasets.get_path('naturalearth_lowres')) ########################Ask how to implement geopandas\n",
    "world.plot()"
   ]
  },
  {
   "cell_type": "code",
   "execution_count": 10,
   "metadata": {},
   "outputs": [],
   "source": [
    "institutions = {} ################### Ask abt correct number of publications by institutions\n",
    "temp = \"\"\n",
    "for index in range(df.shape[0]):\n",
    "    if temp == df.loc[index]['Title']:\n",
    "        continue\n",
    "    title = df.loc[index]['Title']\n",
    "    temp = title\n",
    "    school = df.loc[index]['Author Affiliation']\n",
    "    if school in institutions:\n",
    "        count = institutions[school] + 1\n",
    "        institutions[school] = count\n",
    "    else:\n",
    "        institutions[school] = 1"
   ]
  },
  {
   "cell_type": "code",
   "execution_count": 12,
   "metadata": {},
   "outputs": [],
   "source": [
    "top_5 = sorted(institutions.items(), key=lambda x: x[1], reverse=True)\n"
   ]
  },
  {
   "cell_type": "code",
   "execution_count": 18,
   "metadata": {},
   "outputs": [
    {
     "name": "stdout",
     "output_type": "stream",
     "text": [
      "Top 5 Universities with the Most Publications:\n",
      "1. Cyprus University of Technology\n",
      "2. University of Copenhagen\n",
      "3. Fudan University \n",
      "4. National Taiwan Ocean University\n",
      "5. Daejeon Health Institute of Technology\n"
     ]
    }
   ],
   "source": [
    "print(\"Top 5 Universities with the Most Publications:\")\n",
    "rank = 1\n",
    "for school in top_5:\n",
    "    print(str(rank) + \". \" + str(school[0]))\n",
    "    rank = rank + 1\n",
    "    if rank == 6:\n",
    "        break"
   ]
  },
  {
   "cell_type": "code",
   "execution_count": 19,
   "metadata": {},
   "outputs": [
    {
     "data": {
      "text/html": [
       "<div>\n",
       "<style scoped>\n",
       "    .dataframe tbody tr th:only-of-type {\n",
       "        vertical-align: middle;\n",
       "    }\n",
       "\n",
       "    .dataframe tbody tr th {\n",
       "        vertical-align: top;\n",
       "    }\n",
       "\n",
       "    .dataframe thead th {\n",
       "        text-align: right;\n",
       "    }\n",
       "</style>\n",
       "<table border=\"1\" class=\"dataframe\">\n",
       "  <thead>\n",
       "    <tr style=\"text-align: right;\">\n",
       "      <th></th>\n",
       "      <th>Article No.</th>\n",
       "      <th>Title</th>\n",
       "      <th>Year</th>\n",
       "      <th>Author Number</th>\n",
       "      <th>Key Words</th>\n",
       "      <th>Citation</th>\n",
       "      <th>Source</th>\n",
       "      <th>Abstract</th>\n",
       "      <th>Type</th>\n",
       "      <th>Author Name</th>\n",
       "      <th>Author Affiliation</th>\n",
       "      <th>Country</th>\n",
       "      <th>h-index</th>\n",
       "    </tr>\n",
       "  </thead>\n",
       "  <tbody>\n",
       "    <tr>\n",
       "      <th>0</th>\n",
       "      <td>1</td>\n",
       "      <td>Study of Virtual Reality Immersive Technology ...</td>\n",
       "      <td>2022</td>\n",
       "      <td>3.0</td>\n",
       "      <td>virtual reality technologies, mathematics lear...</td>\n",
       "      <td>7.0</td>\n",
       "      <td>FRONTIERS IN PSYCHOLOGY</td>\n",
       "      <td>Mathematics is an important foundation for the...</td>\n",
       "      <td>Journal</td>\n",
       "      <td>Yu-Sheng Su</td>\n",
       "      <td>National Taiwan Ocean University</td>\n",
       "      <td>Taiwan</td>\n",
       "      <td>0.0</td>\n",
       "    </tr>\n",
       "    <tr>\n",
       "      <th>1</th>\n",
       "      <td>1</td>\n",
       "      <td>Study of Virtual Reality Immersive Technology ...</td>\n",
       "      <td>2022</td>\n",
       "      <td>3.0</td>\n",
       "      <td>virtual reality technologies, mathematics lear...</td>\n",
       "      <td>7.0</td>\n",
       "      <td>FRONTIERS IN PSYCHOLOGY</td>\n",
       "      <td>Mathematics is an important foundation for the...</td>\n",
       "      <td>Journal</td>\n",
       "      <td>Hung-Wei Cheng</td>\n",
       "      <td>National Taiwan Ocean University</td>\n",
       "      <td>Taiwan</td>\n",
       "      <td>0.0</td>\n",
       "    </tr>\n",
       "    <tr>\n",
       "      <th>2</th>\n",
       "      <td>1</td>\n",
       "      <td>Study of Virtual Reality Immersive Technology ...</td>\n",
       "      <td>2022</td>\n",
       "      <td>3.0</td>\n",
       "      <td>virtual reality technologies, mathematics lear...</td>\n",
       "      <td>7.0</td>\n",
       "      <td>FRONTIERS IN PSYCHOLOGY</td>\n",
       "      <td>Mathematics is an important foundation for the...</td>\n",
       "      <td>Journal</td>\n",
       "      <td>Chin-Feng Lai</td>\n",
       "      <td>National Cheng Kung University</td>\n",
       "      <td>Taiwan</td>\n",
       "      <td>0.0</td>\n",
       "    </tr>\n",
       "    <tr>\n",
       "      <th>3</th>\n",
       "      <td>2</td>\n",
       "      <td>Factors Influencing Nursing Students' Immersiv...</td>\n",
       "      <td>2021</td>\n",
       "      <td>2.0</td>\n",
       "      <td>virtual reality; learning; immersive media tec...</td>\n",
       "      <td>3.0</td>\n",
       "      <td>SENSORS</td>\n",
       "      <td>Background/objectives: This study aims to iden...</td>\n",
       "      <td>Journal</td>\n",
       "      <td>Youngju Kim</td>\n",
       "      <td>Daejeon Health Institute of Technology</td>\n",
       "      <td>Korea</td>\n",
       "      <td>0.0</td>\n",
       "    </tr>\n",
       "    <tr>\n",
       "      <th>4</th>\n",
       "      <td>2</td>\n",
       "      <td>Factors Influencing Nursing Students' Immersiv...</td>\n",
       "      <td>2021</td>\n",
       "      <td>2.0</td>\n",
       "      <td>virtual reality; learning; immersive media tec...</td>\n",
       "      <td>3.0</td>\n",
       "      <td>SENSORS</td>\n",
       "      <td>Background/objectives: This study aims to iden...</td>\n",
       "      <td>Journal</td>\n",
       "      <td>Sung Yun Ahn</td>\n",
       "      <td>Pai Chai University</td>\n",
       "      <td>Korea</td>\n",
       "      <td>0.0</td>\n",
       "    </tr>\n",
       "  </tbody>\n",
       "</table>\n",
       "</div>"
      ],
      "text/plain": [
       "   Article No.                                              Title  Year  \\\n",
       "0            1  Study of Virtual Reality Immersive Technology ...  2022   \n",
       "1            1  Study of Virtual Reality Immersive Technology ...  2022   \n",
       "2            1  Study of Virtual Reality Immersive Technology ...  2022   \n",
       "3            2  Factors Influencing Nursing Students' Immersiv...  2021   \n",
       "4            2  Factors Influencing Nursing Students' Immersiv...  2021   \n",
       "\n",
       "   Author Number                                          Key Words  Citation  \\\n",
       "0            3.0  virtual reality technologies, mathematics lear...       7.0   \n",
       "1            3.0  virtual reality technologies, mathematics lear...       7.0   \n",
       "2            3.0  virtual reality technologies, mathematics lear...       7.0   \n",
       "3            2.0  virtual reality; learning; immersive media tec...       3.0   \n",
       "4            2.0  virtual reality; learning; immersive media tec...       3.0   \n",
       "\n",
       "                    Source                                           Abstract  \\\n",
       "0  FRONTIERS IN PSYCHOLOGY  Mathematics is an important foundation for the...   \n",
       "1  FRONTIERS IN PSYCHOLOGY  Mathematics is an important foundation for the...   \n",
       "2  FRONTIERS IN PSYCHOLOGY  Mathematics is an important foundation for the...   \n",
       "3                  SENSORS  Background/objectives: This study aims to iden...   \n",
       "4                  SENSORS  Background/objectives: This study aims to iden...   \n",
       "\n",
       "      Type     Author Name                      Author Affiliation Country  \\\n",
       "0  Journal     Yu-Sheng Su        National Taiwan Ocean University  Taiwan   \n",
       "1  Journal  Hung-Wei Cheng        National Taiwan Ocean University  Taiwan   \n",
       "2  Journal   Chin-Feng Lai          National Cheng Kung University  Taiwan   \n",
       "3  Journal     Youngju Kim  Daejeon Health Institute of Technology   Korea   \n",
       "4  Journal    Sung Yun Ahn                     Pai Chai University   Korea   \n",
       "\n",
       "   h-index  \n",
       "0      0.0  \n",
       "1      0.0  \n",
       "2      0.0  \n",
       "3      0.0  \n",
       "4      0.0  "
      ]
     },
     "execution_count": 19,
     "metadata": {},
     "output_type": "execute_result"
    }
   ],
   "source": [
    "df.head()"
   ]
  },
  {
   "cell_type": "code",
   "execution_count": 22,
   "metadata": {},
   "outputs": [],
   "source": [
    "highest_h = {}\n",
    "for index in range(df.shape[0]):\n",
    "    author = df.loc[index]['Author Name']\n",
    "    h = df.loc[index]['h-index']\n",
    "    if author in highest_h:\n",
    "        count = highest_h[author] + h\n",
    "        highest_h[author] = count\n",
    "    else:\n",
    "        highest_h[author] = h"
   ]
  },
  {
   "cell_type": "code",
   "execution_count": 32,
   "metadata": {},
   "outputs": [],
   "source": [
    "top_5 = sorted(highest_h.items(), key=lambda x: x[1], reverse=True)"
   ]
  },
  {
   "cell_type": "code",
   "execution_count": 33,
   "metadata": {},
   "outputs": [
    {
     "name": "stdout",
     "output_type": "stream",
     "text": [
      "Top 5 Researchers with the Highest h-index:\n",
      "1. Ulrich Trautwein\n",
      "2. Nicolas Molinari\n",
      "3. George S. Athwal\n",
      "4. Sellappan Palaniappan\n",
      "5. Maria Luisa Lorusso\n"
     ]
    }
   ],
   "source": [
    "print(\"Top 5 Researchers with the Highest h-index:\")\n",
    "rank = 1\n",
    "for school in top_5:\n",
    "    print(str(rank) + \". \" + str(school[0]))\n",
    "    rank = rank + 1\n",
    "    if rank == 6:\n",
    "        break"
   ]
  },
  {
   "attachments": {},
   "cell_type": "markdown",
   "metadata": {},
   "source": [
    "Problem 2"
   ]
  },
  {
   "cell_type": "code",
   "execution_count": null,
   "metadata": {},
   "outputs": [],
   "source": []
  }
 ],
 "metadata": {
  "kernelspec": {
   "display_name": "env-basic",
   "language": "python",
   "name": "python3"
  },
  "language_info": {
   "codemirror_mode": {
    "name": "ipython",
    "version": 3
   },
   "file_extension": ".py",
   "mimetype": "text/x-python",
   "name": "python",
   "nbconvert_exporter": "python",
   "pygments_lexer": "ipython3",
   "version": "3.8.13 (default, Mar 28 2022, 06:59:08) [MSC v.1916 64 bit (AMD64)]"
  },
  "orig_nbformat": 4,
  "vscode": {
   "interpreter": {
    "hash": "84c06154e7a8515e2f323221bc5c4abce54bd9dd835a52719a34ddfea7a1dd22"
   }
  }
 },
 "nbformat": 4,
 "nbformat_minor": 2
}
